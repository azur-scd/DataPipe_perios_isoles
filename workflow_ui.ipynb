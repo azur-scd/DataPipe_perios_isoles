{
 "cells": [
  {
   "cell_type": "code",
   "execution_count": 1,
   "id": "151ce571",
   "metadata": {},
   "outputs": [],
   "source": [
    "import numpy as np\n",
    "import pandas as pd\n",
    "import urllib3\n",
    "from urllib.request import urlopen\n",
    "import functions as fn\n",
    "import xml.etree.ElementTree as ET\n",
    "import ipywidgets as widgets\n",
    "from ipywidgets import Layout,GridspecLayout,interact, interact_manual,VBox,HBox,Button, ButtonStyle, Output\n",
    "from IPython.display import HTML, display, clear_output, FileLink, FileLinks"
   ]
  },
  {
   "cell_type": "markdown",
   "id": "ee4b144b",
   "metadata": {},
   "source": [
    "# [DataPipe Identification de notices de périos avec numéros isolés] \n",
    "\n",
    "***"
   ]
  },
  {
   "cell_type": "markdown",
   "id": "ae2ec7b6",
   "metadata": {},
   "source": [
    "## Méthodologie\n",
    "\n",
    "L'objectif consiste à identifier dans le Sudoc pour chacun de nos rcr les lots de notices de périodiques ayant été exemplarisées avec des numéros isolés (c'est-à dire, selon nos pratiques locales, avec un champ d'exemplaire 999$p NI)\n",
    "\n",
    "#### Etape 1 : extraction des sets de ppn par rcr\n",
    "\n",
    "- Source de données : index Solr de l'application Périscope\n",
    "- url racine de l'API Solr : https://periscope.sudoc.fr/SolrProxy\n",
    "- construction des requêtes (arguments Solr normalisés)\n",
    " - q='930-b_t:VARIABLE_RCR AND 999-p_s:NI'\n",
    " - solrService=Pcp\n",
    " - fl=ppn_z,011-a_z,200-a_z,999-p_s,NbLocs_i *#sélection des champs souhaités dans la réponse Solr*\n",
    " - wt=json *#format de sortie pour le datapipe, affiche une erreur dans le navigateur (en mode affichage ne pas ajouter cet argument, le flux de données era en xml par défaut)*\n",
    " \n",
    "Bien que l'API Solr renvoit l'intégralité des métadonnées de chaque notice (tous les champs bibs + tous les champs de tous les exemplares localisés), on ne peut se baser sur cette source car les valeurs des données d'exemplaires sont exposées de manière non stucturée (pour chaque sous-champs toutes les valeurs textuelles de tous les exemplaires sont concaténés en vrac dans des balises générqiue <str>).\n",
    " \n",
    "#### Etape 2 : récupération des données d'exemplaires Sudoc pour chaque ppn\n",
    "\n",
    "- Source de données : web service Abes Unimarc/MarcXML\n",
    "- url de l'API : https://www.sudoc.fr/PPN.xml\n",
    "\n",
    "***"
   ]
  },
  {
   "cell_type": "code",
   "execution_count": 3,
   "id": "4af73754",
   "metadata": {},
   "outputs": [],
   "source": [
    "output = widgets.Output()\n",
    "spin = widgets.IntProgress(\n",
    "    value=0,\n",
    "    min=0,\n",
    "    max=10,\n",
    "    description='Harvesting:',\n",
    "    bar_style='success', # 'success', 'info', 'warning', 'danger' or ''\n",
    "    style={'bar_color': 'maroon'},\n",
    "    orientation='horizontal'\n",
    ")\n",
    "filelinks_button = widgets.Button(description=\"Voir/Exporter le fichier résultat\",\n",
    "                                  button_style='success',\n",
    "                                  layout = Layout(width='300px'))\n",
    "filelinks_output = widgets.Output()\n",
    "def on_flbutton_clicked(b):\n",
    "    with filelinks_output:\n",
    "        display(HTML(\"<p>Visualiser les résultats : cliquer sur le lien</p><p>Exporter le fichier : faire un clic droit puis Enregistrer la cible du lien sous</p>\"))\n",
    "        display(FileLinks(\"result_files/\"))\n",
    "filelinks_button.on_click(on_flbutton_clicked) "
   ]
  },
  {
   "cell_type": "code",
   "execution_count": 12,
   "id": "17377409",
   "metadata": {},
   "outputs": [],
   "source": [
    "def harvest_solr_periscope(rcr,total):\n",
    "    \"\"\"Request Periscope Solr API on a specific rcr and get all records by looping on 10 records sets\n",
    "    ------------------\n",
    "     Parameters:\n",
    "           rcr : str, the rcr of the selected library (cf button)\n",
    "           total : int, the value of the numFound key in the first periscope API request's response (cf button)\n",
    "    ------------------\n",
    "       Result: a dataframe with the following columns (ppn_z,011-a_z,200-a_z,999-p_s,NbLocs_i)\n",
    "    \"\"\"\n",
    "    with output:\n",
    "        clear_output()\n",
    "        df = pd.DataFrame()\n",
    "        for i in range(0,total,10):\n",
    "            result = fn.periscope_api(rcr,i,10)['response']['docs'] \n",
    "            df_temp = pd.DataFrame(result)\n",
    "            df = df.append(df_temp)\n",
    "        spin.value=3\n",
    "        return create_ppns_file(df,rcr)"
   ]
  },
  {
   "cell_type": "code",
   "execution_count": 13,
   "id": "f0dee679",
   "metadata": {},
   "outputs": [],
   "source": [
    "def create_ppns_file(df,rcr):\n",
    "    \"\"\"Get only the records ppn and store them in a static xml file \n",
    "    ------------------\n",
    "     Parameters:\n",
    "           df : dataframe, the current dataframe\n",
    "           rcr : str, the rcr of the selected library (cf button)\n",
    "    ------------------\n",
    "       Result: call to the exec_w function\n",
    "    \"\"\"\n",
    "    list_ppn = df['ppn_z'].tolist()\n",
    "    root = ET.Element(\"root\")\n",
    "    for ppn in list_ppn:\n",
    "        ET.SubElement(root, \"ppn\").text = str(ppn)\n",
    "    tree = ET.ElementTree(root)\n",
    "    tree.write(fn.file_path(\"temporary_files/ppns.xml\"))\n",
    "    spin.value=5\n",
    "    display(filelinks_button,filelinks_output,fn.exec_w(df,rcr))\n",
    "    spin.value=10"
   ]
  },
  {
   "cell_type": "code",
   "execution_count": 8,
   "id": "5af077a4",
   "metadata": {},
   "outputs": [],
   "source": [
    "def display_html_header(data):\n",
    "    \"\"\"First process  : display the libraries widgets and configure the parameters to pass on the on_click function\n",
    "    ------------------\n",
    "     Parameters:\n",
    "           data : dict, the manual-made list of libraries and rcr\n",
    "    ------------------\n",
    "       Result: html blocks\n",
    "    \"\"\"\n",
    "    button = widgets.Button(description=\"Obtenir les notices\",button_style='primary')\n",
    "    def on_button_clicked(b):\n",
    "        harvest_solr_periscope(str(data[\"rcr\"]),int(data[\"count\"]))        \n",
    "    button.on_click(on_button_clicked)\n",
    "    return display(HTML('<td><h4>'+data[\"name\"]+' (rcr '+data[\"rcr\"]+')</h4><p>Nombre de notices : '+str(data[\"count\"])+'</p>'),button,HTML(\"</td>\")) "
   ]
  },
  {
   "cell_type": "markdown",
   "id": "2a8febec",
   "metadata": {},
   "source": [
    "*Le nombre de notices mentionné par rcr est un maximum donné à titre indicatif, il résulte du comptage pour chaque ppn ayant une localisation pour le rcr concerné de tous les exemplaires ayant une zone 999\\\\$p NI mais sans pouvoir être sûr, du fait de la structure des données de l'API Solr, que ce champ 999 soit bien complété par un sous-champ 999\\\\$5 RCR.*\n",
    "\n",
    "*Le filtrage sur les exemplaires du rcr est effectué lors de l'étape 2 du workflow.*"
   ]
  },
  {
   "cell_type": "code",
   "execution_count": 10,
   "id": "654d6f1b",
   "metadata": {},
   "outputs": [
    {
     "data": {
      "text/html": [
       "<table><tr>"
      ],
      "text/plain": [
       "<IPython.core.display.HTML object>"
      ]
     },
     "metadata": {},
     "output_type": "display_data"
    },
    {
     "data": {
      "text/html": [
       "<td><h4>BU Droit (rcr 060882103)</h4><p>Nombre de notices : 128</p>"
      ],
      "text/plain": [
       "<IPython.core.display.HTML object>"
      ]
     },
     "metadata": {},
     "output_type": "display_data"
    },
    {
     "data": {
      "application/vnd.jupyter.widget-view+json": {
       "model_id": "21e72e0e11504cf9994e84a0ba9d04f7",
       "version_major": 2,
       "version_minor": 0
      },
      "text/plain": [
       "Button(button_style='primary', description='Obtenir les notices', style=ButtonStyle())"
      ]
     },
     "metadata": {},
     "output_type": "display_data"
    },
    {
     "data": {
      "text/html": [
       "</td>"
      ],
      "text/plain": [
       "<IPython.core.display.HTML object>"
      ]
     },
     "metadata": {},
     "output_type": "display_data"
    },
    {
     "data": {
      "text/html": [
       "<td><h4>BU Lettres (rcr 060882104)</h4><p>Nombre de notices : 253</p>"
      ],
      "text/plain": [
       "<IPython.core.display.HTML object>"
      ]
     },
     "metadata": {},
     "output_type": "display_data"
    },
    {
     "data": {
      "application/vnd.jupyter.widget-view+json": {
       "model_id": "b08427618ebf4fc48a4a7591f0c173fe",
       "version_major": 2,
       "version_minor": 0
      },
      "text/plain": [
       "Button(button_style='primary', description='Obtenir les notices', style=ButtonStyle())"
      ]
     },
     "metadata": {},
     "output_type": "display_data"
    },
    {
     "data": {
      "text/html": [
       "</td>"
      ],
      "text/plain": [
       "<IPython.core.display.HTML object>"
      ]
     },
     "metadata": {},
     "output_type": "display_data"
    },
    {
     "data": {
      "text/html": [
       "<td><h4>BU Sciences (rcr 060882101)</h4><p>Nombre de notices : 44</p>"
      ],
      "text/plain": [
       "<IPython.core.display.HTML object>"
      ]
     },
     "metadata": {},
     "output_type": "display_data"
    },
    {
     "data": {
      "application/vnd.jupyter.widget-view+json": {
       "model_id": "ac2b99ae2520404ab2958533b15d196f",
       "version_major": 2,
       "version_minor": 0
      },
      "text/plain": [
       "Button(button_style='primary', description='Obtenir les notices', style=ButtonStyle())"
      ]
     },
     "metadata": {},
     "output_type": "display_data"
    },
    {
     "data": {
      "text/html": [
       "</td>"
      ],
      "text/plain": [
       "<IPython.core.display.HTML object>"
      ]
     },
     "metadata": {},
     "output_type": "display_data"
    },
    {
     "data": {
      "text/html": [
       "<td><h4>BU Médecine (rcr 060882102)</h4><p>Nombre de notices : 3</p>"
      ],
      "text/plain": [
       "<IPython.core.display.HTML object>"
      ]
     },
     "metadata": {},
     "output_type": "display_data"
    },
    {
     "data": {
      "application/vnd.jupyter.widget-view+json": {
       "model_id": "546e7ef2188e4d61b6bb4ae09659ba91",
       "version_major": 2,
       "version_minor": 0
      },
      "text/plain": [
       "Button(button_style='primary', description='Obtenir les notices', style=ButtonStyle())"
      ]
     },
     "metadata": {},
     "output_type": "display_data"
    },
    {
     "data": {
      "text/html": [
       "</td>"
      ],
      "text/plain": [
       "<IPython.core.display.HTML object>"
      ]
     },
     "metadata": {},
     "output_type": "display_data"
    },
    {
     "data": {
      "text/html": [
       "<td><h4>BU SJA (rcr 060882105)</h4><p>Nombre de notices : 63</p>"
      ],
      "text/plain": [
       "<IPython.core.display.HTML object>"
      ]
     },
     "metadata": {},
     "output_type": "display_data"
    },
    {
     "data": {
      "application/vnd.jupyter.widget-view+json": {
       "model_id": "accd879797e341b999281c9daff67347",
       "version_major": 2,
       "version_minor": 0
      },
      "text/plain": [
       "Button(button_style='primary', description='Obtenir les notices', style=ButtonStyle())"
      ]
     },
     "metadata": {},
     "output_type": "display_data"
    },
    {
     "data": {
      "text/html": [
       "</td>"
      ],
      "text/plain": [
       "<IPython.core.display.HTML object>"
      ]
     },
     "metadata": {},
     "output_type": "display_data"
    },
    {
     "data": {
      "text/html": [
       "</table>"
      ],
      "text/plain": [
       "<IPython.core.display.HTML object>"
      ]
     },
     "metadata": {},
     "output_type": "display_data"
    }
   ],
   "source": [
    "display(HTML(\"<table><tr>\"))\n",
    "data_bib =[\n",
    " {'rcr': '060882103', 'name': 'BU Droit', 'count': fn.periscope_api('060882103',0,1)['response']['numFound']},\n",
    " {'rcr': '060882104', 'name': 'BU Lettres', 'count': fn.periscope_api('060882104',0,1)['response']['numFound']},\n",
    " {'rcr': '060882101', 'name': 'BU Sciences', 'count': fn.periscope_api('060882101',0,1)['response']['numFound']},\n",
    " {'rcr': '060882102', 'name': 'BU Médecine', 'count': fn.periscope_api('060882102',0,1)['response']['numFound']},\n",
    " {'rcr': '060882105', 'name': 'BU SJA', 'count': fn.periscope_api('060882105',0,1)['response']['numFound']}]\n",
    "for item in data_bib:\n",
    "    display_html_header(item)\n",
    "display(HTML(\"</table>\"))"
   ]
  },
  {
   "cell_type": "markdown",
   "id": "d14e6520",
   "metadata": {},
   "source": [
    "***"
   ]
  },
  {
   "cell_type": "code",
   "execution_count": 9,
   "id": "48d550c5",
   "metadata": {},
   "outputs": [
    {
     "data": {
      "application/vnd.jupyter.widget-view+json": {
       "model_id": "cadee854f1ab4448bf6b4c2118bc42b6",
       "version_major": 2,
       "version_minor": 0
      },
      "text/plain": [
       "IntProgress(value=0, bar_style='success', description='Harvesting:', max=10, style=ProgressStyle(bar_color='ma…"
      ]
     },
     "metadata": {},
     "output_type": "display_data"
    },
    {
     "data": {
      "application/vnd.jupyter.widget-view+json": {
       "model_id": "69aef759dfc04e86ba2802bd5fd51611",
       "version_major": 2,
       "version_minor": 0
      },
      "text/plain": [
       "Output()"
      ]
     },
     "metadata": {},
     "output_type": "display_data"
    }
   ],
   "source": [
    "display(spin,output)"
   ]
  }
 ],
 "metadata": {
  "kernelspec": {
   "display_name": "venv_periosni",
   "language": "python",
   "name": "venv_periosni"
  },
  "language_info": {
   "codemirror_mode": {
    "name": "ipython",
    "version": 3
   },
   "file_extension": ".py",
   "mimetype": "text/x-python",
   "name": "python",
   "nbconvert_exporter": "python",
   "pygments_lexer": "ipython3",
   "version": "3.7.4"
  },
  "varInspector": {
   "cols": {
    "lenName": 16,
    "lenType": 16,
    "lenVar": 40
   },
   "kernels_config": {
    "python": {
     "delete_cmd_postfix": "",
     "delete_cmd_prefix": "del ",
     "library": "var_list.py",
     "varRefreshCmd": "print(var_dic_list())"
    },
    "r": {
     "delete_cmd_postfix": ") ",
     "delete_cmd_prefix": "rm(",
     "library": "var_list.r",
     "varRefreshCmd": "cat(var_dic_list()) "
    }
   },
   "types_to_exclude": [
    "module",
    "function",
    "builtin_function_or_method",
    "instance",
    "_Feature"
   ],
   "window_display": false
  }
 },
 "nbformat": 4,
 "nbformat_minor": 5
}
